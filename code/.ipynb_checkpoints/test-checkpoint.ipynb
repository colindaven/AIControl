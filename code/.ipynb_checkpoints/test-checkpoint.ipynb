{
 "cells": [
  {
   "cell_type": "code",
   "execution_count": 1,
   "metadata": {
    "collapsed": false
   },
   "outputs": [],
   "source": [
    "using PureSeq\n",
    "using Distributions\n",
    "using JLD\n",
    "using DataFrames"
   ]
  },
  {
   "cell_type": "code",
   "execution_count": 2,
   "metadata": {
    "collapsed": false
   },
   "outputs": [
    {
     "data": {
      "text/plain": [
       "filter2d (generic function with 1 method)"
      ]
     },
     "execution_count": 2,
     "metadata": {},
     "output_type": "execute_result"
    }
   ],
   "source": [
    "function checkControlAvailability(controlFiles, basedir, suffix, excludes=[])\n",
    "    ret = String[]\n",
    "    mask = Bool[]\n",
    "    for c in controlFiles\n",
    "        if isfile(\"$(basedir)$(c).f$(suffix)\") && isfile(\"$(basedir)$(c).r$(suffix)\")\n",
    "            if !(c[1:end-4] in excludes)\n",
    "                push!(ret, c)\n",
    "                push!(mask, true)\n",
    "            else\n",
    "                push!(mask, false)\n",
    "            end\n",
    "        end\n",
    "    end\n",
    "    push!(mask, true)\n",
    "    ret, mask\n",
    "end\n",
    "\n",
    "# Load control files from specified directory. \n",
    "function load_controls(controlFiles, basedir, direction, suffix)\n",
    "    readers = BinnedReader[]\n",
    "    control_names = Any[]\n",
    "    for i in 1:length(controlFiles)\n",
    "        filename = \"$(basedir)$(controlFiles[i])$(direction)$(suffix)\"\n",
    "        push!(readers, BinnedReader(filename))\n",
    "        push!(control_names, filename)\n",
    "    end\n",
    "    readers, control_names\n",
    "end\n",
    "\n",
    "function filter2d(matrix, ymask, xmask)\n",
    "    temp = filter(x->x[2], [(matrix[i,1:end], ymask[i]) for i in 1:size(matrix)[1]])\n",
    "    temp = [i[1] for i in temp]\n",
    "    temp = hcat(temp...)\n",
    "    \n",
    "    temp = filter(x->x[2], [(temp[i,1:end], xmask[i]) for i in 1:size(temp)[1]])\n",
    "    temp = [i[1] for i in temp]\n",
    "    temp = hcat(temp...)\n",
    "end\n",
    "\n",
    "function smooth(a, width)\n",
    "    if width > length(a)\n",
    "        width = length(a)\n",
    "    end\n",
    "    \n",
    "    ret = copy(a)\n",
    "    counts = ones(length(a))\n",
    "    \n",
    "    #Aggregating the values\n",
    "    for i in 1:width\n",
    "        for j in 1:length(a)-i\n",
    "            ret[j] += a[j+i]\n",
    "            ret[end-j+1] += a[end-j-i+1]\n",
    "            counts[j] += 1\n",
    "            counts[end-j+1] += 1\n",
    "        end \n",
    "    end\n",
    "    ret./counts\n",
    "end\n",
    "\n",
    "type PeakWriter\n",
    "    #a output stream object to write to\n",
    "    Outstream\n",
    "    contigs::ReferenceContigs\n",
    "    cur_ref::Int64\n",
    "end\n",
    "\n",
    "function PeakWriter(output_stream, contigs)\n",
    "    sw = PeakWriter(output_stream, contigs, 1)\n",
    "    sw\n",
    "end\n",
    "\n",
    "function WritePeak(sw::PeakWriter, binSize::Int64, binPosStart::Int64, binPosEnd::Int64, pval::Float64, fold)\n",
    "    startPos = binSize*(binPosStart-1)+1\n",
    "    endPos = binSize*binPosEnd\n",
    "    \n",
    "    while startPos > sw.contigs.offsets[sw.cur_ref]+sw.contigs.sizes[sw.cur_ref]\n",
    "        sw.cur_ref += 1\n",
    "    end\n",
    "    \n",
    "    RNAME = sw.contigs.names[sw.cur_ref]\n",
    "    startPos = staråtPos-sw.contigs.offsets[sw.cur_ref]\n",
    "    endPos = endPos-sw.contigs.offsets[sw.cur_ref]\n",
    "    println(sw.Outstream, RNAME,\"\\t\",startPos,\"\\t\",endPos,\"\\t-\\t-\\t-\\t\", fold,\"\\t\", pval,\"\\t\")\n",
    "end"
   ]
  },
  {
   "cell_type": "code",
   "execution_count": 3,
   "metadata": {
    "collapsed": false
   },
   "outputs": [
    {
     "data": {
      "text/plain": [
       "compute_weights (generic function with 1 method)"
      ]
     },
     "execution_count": 3,
     "metadata": {},
     "output_type": "execute_result"
    }
   ],
   "source": [
    "function compute_weights(targetFile, controlFiles, ifForward, num_chroms, mask, basedir, binsize, xtxdir; verbose=true, blockSize=10000, blockLimit=Inf)\n",
    "    \n",
    "    ##############\n",
    "    # PARAMETERS #\n",
    "    ##############\n",
    "    if num_chroms > length(ReferenceContigs_hg38.sizes) || num_chroms < 1\n",
    "        num_chroms = length(ReferenceContigs_hg38.sizes)\n",
    "    end\n",
    "    \n",
    "    training_limit = Int(ceil(sum(ReferenceContigs_hg38.sizes[1:num_chroms])/binsize)) # of bins used for training.\n",
    "    suffix = \"bin$((binsize))\" # suffix for the binned file.\n",
    "    if ifForward == true direction = \".f\" else direction = \".r\" end #.r or .f for file suffix.\n",
    "    \n",
    "    ####################\n",
    "    # BUILDING READERS # \n",
    "    ####################  \n",
    "    #Build control readers.\n",
    "    readers, control_names = load_controls(controlFiles, basedir, direction, suffix)\n",
    "    #Build target control reader.\n",
    "    target_reader = BinnedReader(targetFile)\n",
    "    \n",
    "    #######################\n",
    "    # PREPARING MATRICIES #\n",
    "    #######################\n",
    "    P = length(readers) + 1 # +1 is coming from the constant term\n",
    "    XtX1 = readdlm(\"$(xtxdir)/xtx$(direction)e.dlm\")\n",
    "    XtX2 = readdlm(\"$(xtxdir)/xtx$(direction)o.dlm\")\n",
    "    \n",
    "    XtX1 = filter2d(XtX1, mask, mask)\n",
    "    XtX2 = filter2d(XtX2, mask, mask)\n",
    "    \n",
    "    Xty1 = zeros((P,1))\n",
    "    Xty2 = zeros((P,1))\n",
    "    \n",
    "    assert(P==size(XtX1)[1])\n",
    "    assert(P==size(XtX2)[2])\n",
    "    \n",
    "    #####################\n",
    "    # COMPUTING WEIGHTS #\n",
    "    #####################\n",
    "    count = 0\n",
    "    for (target,control) in zip(denseblocks([target_reader], blockSize), denseblocks(readers, blockSize, constantColumn=true, loop=true))\n",
    "        count += 1\n",
    "        #checking the termination condition\n",
    "        if count > blockLimit break end\n",
    "        if count*blockSize > training_limit break end\n",
    "        \n",
    "        #updating our estimates\n",
    "        if count % 2 == 0\n",
    "            Xty1 .+= control'*target\n",
    "        else\n",
    "            Xty2 .+= control'*target\n",
    "        end\n",
    "            \n",
    "        if count % 1000 == 0 && verbose\n",
    "            println(\"Processed $(count*blockSize) out of $training_limit bins... ($targetFile)\")\n",
    "        end\n",
    "    end\n",
    "    \n",
    "    weights1 = inv(XtX1 + 0.00001*eye(P))*Xty1\n",
    "    weights2 = inv(XtX2 + 0.00001*eye(P))*Xty2\n",
    "    \n",
    "    ################\n",
    "    # CLEANING IOs #\n",
    "    ################\n",
    "    for i in length(readers) close(readers[i]) end\n",
    "    close(target_reader)\n",
    "    weights1, weights2, control_names \n",
    "end"
   ]
  },
  {
   "cell_type": "code",
   "execution_count": 4,
   "metadata": {
    "collapsed": false
   },
   "outputs": [
    {
     "data": {
      "text/plain": [
       "compute_fits (generic function with 1 method)"
      ]
     },
     "execution_count": 4,
     "metadata": {},
     "output_type": "execute_result"
    }
   ],
   "source": [
    "function compute_fits(targetFile, controlFiles, weight1, weight2, ifForward, num_chroms, basedir, binsize; verbose=true, blockSize=100000, blockLimit=Inf)\n",
    "\n",
    "    ##############\n",
    "    # PARAMETERS #\n",
    "    ##############\n",
    "    if num_chroms > length(ReferenceContigs_hg38.sizes) || num_chroms < 1\n",
    "        num_chroms = length(ReferenceContigs_hg38.sizes)\n",
    "    end\n",
    "    \n",
    "    training_limit = Int(ceil(sum(ReferenceContigs_hg38.sizes[1:num_chroms])/binsize)) # of bins used for training.\n",
    "    suffix = \"bin$((binsize))\" # suffix for the binned file.\n",
    "    if ifForward == true direction = \".f\" else direction = \".r\" end #.r or .f for file suffix.\n",
    "    \n",
    "    ####################\n",
    "    # BUILDING READERS # \n",
    "    ####################  \n",
    "    #Build control readers.\n",
    "    readers, control_names = load_controls(controlFiles, basedir, direction, suffix)\n",
    "    target_reader = BinnedReader(targetFile)\n",
    "    \n",
    "    #########################\n",
    "    # PREPAREING DATA ARRAY #\n",
    "    #########################\n",
    "    regression_fit = zeros(Float16, training_limit)\n",
    "\n",
    "    #################\n",
    "    # PRODUCING FIT #\n",
    "    #################\n",
    "    # use denseblocks to iterate over blocks of the target and control data\n",
    "    count = 0\n",
    "    binpos = 0\n",
    "    for (target,control) in zip(denseblocks([target_reader], blockSize), denseblocks(readers, blockSize, constantColumn=true, loop=true))\n",
    "        count += 1\n",
    "        #checking the termination condition\n",
    "        if count > blockLimit break end\n",
    "        if count*blockSize > training_limit break end\n",
    "        \n",
    "        #producing regression fit. \n",
    "        if count % 2 == 0 pred = control*weight2 else pred = control*weight1 end\n",
    "        \n",
    "        for j in 1:length(pred)\n",
    "            binpos +=1\n",
    "            try \n",
    "                regression_fit[binpos] = pred[j]\n",
    "            end\n",
    "        end   \n",
    "        \n",
    "        if count % 100 == 0 && verbose\n",
    "            println(\"Processed $(count*blockSize) out of $training_limit bins... ($targetFile)\")\n",
    "        end\n",
    "    end\n",
    "    \n",
    "    regression_fit\n",
    "end"
   ]
  },
  {
   "cell_type": "code",
   "execution_count": 11,
   "metadata": {
    "collapsed": false
   },
   "outputs": [
    {
     "data": {
      "text/plain": [
       "callpeaks (generic function with 1 method)"
      ]
     },
     "execution_count": 11,
     "metadata": {},
     "output_type": "execute_result"
    }
   ],
   "source": [
    "function callpeaks(targetFile, regfit, ifForward, num_chroms, binsize; base=1)\n",
    "       \n",
    "    if ifForward == true direction = \".f\" else direction = \".r\" end #.r or .f for file suffix.\n",
    "    if num_chroms > length(ReferenceContigs_hg38.sizes) || num_chroms < 1\n",
    "        num_chroms = length(ReferenceContigs_hg38.sizes)\n",
    "    end\n",
    "    \n",
    "    #loading signals\n",
    "    b = BinnedReader(targetFile)\n",
    "    target = zeros(Float32, Int(ceil(sum(ReferenceContigs_hg38.sizes[1:num_chroms])/binsize)))\n",
    "    while !eof(b) && position(b) < length(target)\n",
    "        target[position(b)] = value(b)\n",
    "        advance!(b)\n",
    "    end\n",
    "    close(b)\n",
    "\n",
    "    #smoothing ?\n",
    "    smooth1000 = smooth(regfit, 10)\n",
    "    smooth5000 = smooth(regfit, 50)\n",
    "    smooth10000 = smooth(regfit, 100)\n",
    "    m = mean(target)\n",
    "    \n",
    "    pvals = zeros(Float32, Int(ceil(sum(ReferenceContigs_hg38.sizes[1:num_chroms])/binsize)))\n",
    "    lambdas = zeros(Float32, Int(ceil(sum(ReferenceContigs_hg38.sizes[1:num_chroms])/binsize)))\n",
    "    folds = zeros(Float32, Int(ceil(sum(ReferenceContigs_hg38.sizes[1:num_chroms])/binsize)))\n",
    "\n",
    "    for i in 1:length(regfit)\n",
    "        lambda = maximum([regfit[i], smooth1000[i], smooth5000[i], smooth10000[i], m, base])\n",
    "        pval = -1*log(10, 1-cdf(Poisson(lambda), target[i]))\n",
    "        fold = target[i]/lambda\n",
    "        if pval == Inf pval=1000.0 end\n",
    "\n",
    "        #This version of the code will assign pval to individual bins.\n",
    "        pvals[i] = pval\n",
    "        lambdas[i] = lambda\n",
    "        folds[i] = fold\n",
    "    end\n",
    "    \n",
    "    pvals, folds, lambdas, target\n",
    "end"
   ]
  },
  {
   "cell_type": "code",
   "execution_count": 23,
   "metadata": {
    "collapsed": false
   },
   "outputs": [
    {
     "data": {
      "text/plain": [
       "generate_peakfile (generic function with 1 method)"
      ]
     },
     "execution_count": 23,
     "metadata": {},
     "output_type": "execute_result"
    }
   ],
   "source": [
    "function generate_peakfile(forward_p, reverse_p, folds_f, folds_r, name, th, offset, binsize)\n",
    "    pvals = zeros(Float32, Int(ceil(sum(ReferenceContigs_hg38.sizes)/binsize)))\n",
    "    folds = zeros(Float32, Int(ceil(sum(ReferenceContigs_hg38.sizes)/binsize)))\n",
    "    \n",
    "    for i in 1:length(forward_p)\n",
    "        try\n",
    "            pvals[i+Int(floor(offset/binsize))] = forward_p[i]\n",
    "            folds[i+Int(floor(offset/binsize))] = folds_f[i]\n",
    "        end\n",
    "    end\n",
    "    \n",
    "    for i in 1:length(reverse_p)\n",
    "        try\n",
    "            if reverse_p[i] < pvals[i-Int(floor(offset/binsize))] \n",
    "                pvals[i-Int(floor(offset/binsize))] = reverse_p[i]\n",
    "            end\n",
    "            if folds_r[i] < folds[i-Int(floor(offset/binsize))] \n",
    "                folds[i-Int(floor(offset/binsize))] = folds_r[i]\n",
    "            end\n",
    "        end\n",
    "    end\n",
    "    \n",
    "    fout = open(\"$(name).peaks\",\"w\")\n",
    "    pw = PeakWriter(fout, ReferenceContigs_hg38)\n",
    "    for i in 1:length(pvals)\n",
    "        #This version of the code will assign pval to individual bins.\n",
    "        pval = pvals[i]\n",
    "        if pval >= th\n",
    "            WritePeak(pw, binsize, i, i, Int(ceil(pval*1000))/1000.0, folds[i]) \n",
    "        end\n",
    "    end\n",
    "    close(fout)\n",
    "    pvals\n",
    "end"
   ]
  },
  {
   "cell_type": "code",
   "execution_count": 29,
   "metadata": {
    "collapsed": false
   },
   "outputs": [
    {
     "name": "stdout",
     "output_type": "stream",
     "text": [
      "Working on: data/CTCF_02.bam\n"
     ]
    },
    {
     "data": {
      "text/plain": [
       "1"
      ]
     },
     "execution_count": 29,
     "metadata": {},
     "output_type": "execute_result"
    }
   ],
   "source": [
    "# Checking target file existance\n",
    "targetfilename = \"data/CTCF_02.bam\"#ARGS[1]\n",
    "if isfile(targetfilename) \n",
    "    println(\"Working on: \", targetfilename)\n",
    "else\n",
    "    println(targetfilename, \" does not exist.\")\n",
    "    return -1\n",
    "end\n",
    "\n",
    "# Load parameters\n",
    "file = readlines(open(\"aicontrol.config\"))\n",
    "parameters = filter(x->!(length(x)==0||x[1]=='#'), [strip(i) for i in file])\n",
    "configs = Dict()\n",
    "for p in parameters\n",
    "    line = [strip(i) for i in split(p, '=')]\n",
    "    configs[line[1]] = line[2]\n",
    "end\n",
    "\n",
    "binsize = configs[\"binsize\"]\n",
    "binname_f = \"$(targetfilename).fbin$(binsize)\"\n",
    "binname_r = \"$(targetfilename).rbin$(binsize)\"\n",
    "prefix = split(targetfilename, \".\")[1]\n",
    "chrom = 1"
   ]
  },
  {
   "cell_type": "code",
   "execution_count": 28,
   "metadata": {
    "collapsed": false
   },
   "outputs": [
    {
     "name": "stdout",
     "output_type": "stream",
     "text": [
      "Computing weights...\n",
      "Learning background noise...\n",
      "Identifiying peaks...\n",
      "Done...\n"
     ]
    }
   ],
   "source": [
    "println(\"Binning target file...\")\n",
    "if !isfile(binname_f)\n",
    "    println(\"Binning $(targetfilename) (Forward)\")\n",
    "    write_binned(targetfilename, parse(Int, configs[\"binsize\"]), :forward, skipDup=true)\n",
    "end\n",
    "if !isfile(binname_r)\n",
    "    println(\"Binning $(targetfilename) (Reverse)\")\n",
    "    write_binned(targetfilename, parse(Int, configs[\"binsize\"]), :reverse, skipDup=true)\n",
    "end\n",
    "\n",
    "metadata = readtable(configs[\"metafile\"])\n",
    "basectrls = collect(metadata[(metadata[:IFCTRL].== true), :ID])\n",
    "temp = [\"$(i).bam\" for i in basectrls]\n",
    "controlfiles, mask = checkControlAvailability(temp, configs[\"ctrldir\"], \"bin$(binsize)\")\n",
    "println(length(controlfiles))\n",
    "\n",
    "println(\"Computing weights...\")\n",
    "if !isfile(\"$(prefix)_wfe.dlm\")\n",
    "    wfe, wfo = compute_weights(binname_f, controlfiles, true, chrom, mask, configs[\"ctrldir\"], parse(Int, binsize), configs[\"xtxdir\"])\n",
    "    writedlm(\"$(prefix)_wfe.dlm\", wfe)\n",
    "    writedlm(\"$(prefix)_wfo.dlm\", wfo)\n",
    "else\n",
    "    wfe = readdlm(\"$(prefix)_wfe.dlm\")\n",
    "    wfo = readdlm(\"$(prefix)_wfo.dlm\")\n",
    "end\n",
    "\n",
    "if !isfile(\"$(prefix)_wre.dlm\")\n",
    "    wre, wro = compute_weights(binname_r, controlfiles, false, chrom, mask, configs[\"ctrldir\"], parse(Int, binsize), configs[\"xtxdir\"])\n",
    "    writedlm(\"$(prefix)_wre.dlm\", wre)\n",
    "    writedlm(\"$(prefix)_wro.dlm\", wro)\n",
    "else\n",
    "    wre = readdlm(\"$(prefix)_wre.dlm\")\n",
    "    wro = readdlm(\"$(prefix)_wro.dlm\")\n",
    "end\n",
    "\n",
    "println(\"Learning background noise...\")\n",
    "if !isfile(\"$(prefix)_fitf.dlm\")\n",
    "    fitf = compute_fits(binname_f, controlfiles, wfe, wfo, true, chrom, configs[\"ctrldir\"], parse(Int, binsize))\n",
    "    writedlm(\"$(prefix)_fitf.dlm\", fitf)\n",
    "else\n",
    "    fitf = readdlm(\"$(prefix)_fitf.dlm\")\n",
    "end\n",
    "\n",
    "if !isfile(\"$(prefix)_fitr.dlm\")\n",
    "    fitr = compute_fits(binname_r, controlfiles, wre, wro, false, chrom, configs[\"ctrldir\"], parse(Int, binsize))\n",
    "    writedlm(\"$(prefix)_fitr.dlm\", fitr)\n",
    "else\n",
    "    fitr = readdlm(\"$(prefix)_fitr.dlm\")\n",
    "end\n",
    "\n",
    "println(\"Identifiying peaks...\")\n",
    "pvals_f, folds_f, dmy, dmy = callpeaks(binname_f, fitf, true, chrom, binsize)\n",
    "pvals_r, folds_r, dmy, dmy = callpeaks(binname_r, fitr, false, chrom, binsize)\n",
    "\n",
    "generate_peakfile(pvals_f, pvals_r, folds_f, folds_r, \"$(prefix)\",\n",
    "                    parse(Float64, configs[\"th\"]),\n",
    "                    parse(Int, configs[\"shift\"]),\n",
    "                    parse(Int, binsize))\n",
    "\n",
    "println(\"Done...\")"
   ]
  },
  {
   "cell_type": "code",
   "execution_count": null,
   "metadata": {
    "collapsed": true
   },
   "outputs": [],
   "source": []
  }
 ],
 "metadata": {
  "kernelspec": {
   "display_name": "Julia 0.5.0",
   "language": "julia",
   "name": "julia-0.5"
  },
  "language_info": {
   "file_extension": ".jl",
   "mimetype": "application/julia",
   "name": "julia",
   "version": "0.5.0"
  }
 },
 "nbformat": 4,
 "nbformat_minor": 2
}
